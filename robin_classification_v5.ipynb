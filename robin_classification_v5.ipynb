{
 "nbformat": 4,
 "nbformat_minor": 0,
 "metadata": {
  "colab": {
   "name": "robin_classification_v5.ipynb",
   "provenance": [],
   "authorship_tag": "ABX9TyPfprlhgfGZGGUZdk8Dc/Ax",
   "include_colab_link": true
  },
  "kernelspec": {
   "name": "python3",
   "language": "python",
   "display_name": "Python 3"
  }
 },
 "cells": [
  {
   "cell_type": "code",
   "execution_count": 10,
   "outputs": [
    {
     "name": "stdout",
     "output_type": "stream",
     "text": [
      "Found directory: data\n",
      "Found directory: data/images\n",
      "Creating 'data/train' directory at project's root: /Users/jontan_paloit/Dev/Lab/trash_classification\n",
      "Creating 'data/valid' directory at project's root: /Users/jontan_paloit/Dev/Lab/trash_classification\n",
      "Creating 'data/test' directory at project's root: /Users/jontan_paloit/Dev/Lab/trash_classification\n"
     ]
    }
   ],
   "source": [
    "import os\n",
    "project_dir=[\n",
    "    \"data\",\n",
    "    \"data/images\",\n",
    "    \"data/train\",\n",
    "    \"data/valid\",\n",
    "    \"data/test\"\n",
    "]\n",
    "\n",
    "for folder in project_dir:\n",
    "    path = f'{os.getcwd()}/{folder}'\n",
    "    if os.path.exists(path):\n",
    "        print(f\"Found directory: {folder}\")\n",
    "    else:\n",
    "        print(f\"Creating '{folder}' directory at project's root: {os.getcwd()}\")\n",
    "        os.mkdir(path)"
   ],
   "metadata": {
    "collapsed": false,
    "pycharm": {
     "name": "#%%\n"
    }
   }
  },
  {
   "cell_type": "code",
   "execution_count": null,
   "outputs": [],
   "source": [
    "%%bash\n",
    "unzip trashnet_materials.zip\n",
    "mv trashnet_materials/* data/images\n",
    "rm -rf trashnet_materials/"
   ],
   "metadata": {
    "collapsed": false,
    "pycharm": {
     "name": "#%%\n"
    },
    "tags": [
     "outputPrepend"
    ]
   }
  },
  {
   "cell_type": "code",
   "execution_count": 11,
   "outputs": [],
   "source": [
    "import shutil\n",
    "def split_image_dataset(image_directory, train_dir, valid_dir, test_dir, train_ratio, valid_ratio):\n",
    "    for class_name in image_directory.iterdir():\n",
    "        if class_name.is_dir():\n",
    "            # ensures class directories exists in train and test directories\n",
    "            for t in [train_dir, valid_dir, test_dir]:\n",
    "                if not os.path.exists(t/class_name.name):\n",
    "                    os.mkdir(t/class_name.name)\n",
    "\n",
    "            image_list = list(class_name.glob('*.jpg'))\n",
    "            train_list, valid_list, test_list = split_train_test(image_list, train_ratio, valid_ratio)\n",
    "\n",
    "            print(f'Copying {len(train_list)} of {len(image_list)} to {train_dir/class_name.name}')\n",
    "            for file in train_list:\n",
    "                target=str(images_dir/class_name.name/file.name)\n",
    "                dest=str(train_dir/class_name.name/file.name)\n",
    "                shutil.copyfile(target, dest)\n",
    "\n",
    "            print(f'Copying {len(valid_list)} of {len(image_list)} to {valid_dir/class_name.name}')\n",
    "            for file in valid_list:\n",
    "                target=str(images_dir/class_name.name/file.name)\n",
    "                dest=str(valid_dir/class_name.name/file.name)\n",
    "                shutil.copyfile(target, dest)\n",
    "\n",
    "            print(f'Copying {len(test_list)} of {len(image_list)} to {test_dir/class_name.name}')\n",
    "            for file in test_list:\n",
    "                target=str(images_dir/class_name.name/file.name)\n",
    "                dest=str(test_dir/class_name.name/file.name)\n",
    "                shutil.copyfile(target, dest)\n"
   ],
   "metadata": {
    "collapsed": false,
    "pycharm": {
     "name": "#%%\n"
    }
   }
  },
  {
   "cell_type": "code",
   "execution_count": 12,
   "outputs": [
    {
     "name": "stdout",
     "output_type": "stream",
     "text": [
      "Total images found: 995\n",
      "Train: 696, Validation: 149, Test: 150\n",
      "Copying 696 of 995 to /Users/jontan_paloit/Dev/Lab/trash_classification/data/train/paper\n",
      "Copying 149 of 995 to /Users/jontan_paloit/Dev/Lab/trash_classification/data/valid/paper\n",
      "Copying 150 of 995 to /Users/jontan_paloit/Dev/Lab/trash_classification/data/test/paper\n",
      "Total images found: 410\n",
      "Train: 287, Validation: 61, Test: 62\n",
      "Copying 287 of 410 to /Users/jontan_paloit/Dev/Lab/trash_classification/data/train/metal\n",
      "Copying 61 of 410 to /Users/jontan_paloit/Dev/Lab/trash_classification/data/valid/metal\n",
      "Copying 62 of 410 to /Users/jontan_paloit/Dev/Lab/trash_classification/data/test/metal\n",
      "Total images found: 137\n",
      "Train: 95, Validation: 20, Test: 22\n",
      "Copying 95 of 137 to /Users/jontan_paloit/Dev/Lab/trash_classification/data/train/trash\n",
      "Copying 20 of 137 to /Users/jontan_paloit/Dev/Lab/trash_classification/data/valid/trash\n",
      "Copying 22 of 137 to /Users/jontan_paloit/Dev/Lab/trash_classification/data/test/trash\n",
      "Total images found: 501\n",
      "Train: 350, Validation: 75, Test: 76\n",
      "Copying 350 of 501 to /Users/jontan_paloit/Dev/Lab/trash_classification/data/train/glass\n",
      "Copying 75 of 501 to /Users/jontan_paloit/Dev/Lab/trash_classification/data/valid/glass\n",
      "Copying 76 of 501 to /Users/jontan_paloit/Dev/Lab/trash_classification/data/test/glass\n",
      "Total images found: 484\n",
      "Train: 338, Validation: 72, Test: 74\n",
      "Copying 338 of 484 to /Users/jontan_paloit/Dev/Lab/trash_classification/data/train/plastic\n",
      "Copying 72 of 484 to /Users/jontan_paloit/Dev/Lab/trash_classification/data/valid/plastic\n",
      "Copying 74 of 484 to /Users/jontan_paloit/Dev/Lab/trash_classification/data/test/plastic\n"
     ]
    }
   ],
   "source": [
    "import os\n",
    "from pathlib import Path\n",
    "from helpers import split_train_test\n",
    "\n",
    "data_dir=Path(os.getcwd())/'data'\n",
    "images_dir= data_dir/'images'\n",
    "train_dir= data_dir/'train'\n",
    "valid_dir= data_dir/'valid'\n",
    "test_dir= data_dir/'test'\n",
    "\n",
    "split_image_dataset(images_dir, train_dir, valid_dir, test_dir, 0.7, 0.15)"
   ],
   "metadata": {
    "collapsed": false,
    "pycharm": {
     "name": "#%%\n"
    },
    "tags": []
   }
  },
  {
   "cell_type": "code",
   "execution_count": null,
   "metadata": {},
   "outputs": [],
   "source": []
  }
 ]
}