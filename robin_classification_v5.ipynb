{
 "nbformat": 4,
 "nbformat_minor": 0,
 "metadata": {
  "colab": {
   "name": "robin_classification_v5.ipynb",
   "provenance": [],
   "authorship_tag": "ABX9TyPfprlhgfGZGGUZdk8Dc/Ax",
   "include_colab_link": true
  },
  "kernelspec": {
   "name": "python3",
   "language": "python",
   "display_name": "Python 3"
  }
 },
 "cells": [
  {
   "cell_type": "code",
   "execution_count": 33,
   "outputs": [
    {
     "output_type": "stream",
     "name": "stdout",
     "text": [
      "Creating 'data' directory at project's root: /Users/jontan_paloit/Dev/Lab/trash_classification\nCreating 'data/images' directory at project's root: /Users/jontan_paloit/Dev/Lab/trash_classification\nCreating 'data/train' directory at project's root: /Users/jontan_paloit/Dev/Lab/trash_classification\nCreating 'data/test' directory at project's root: /Users/jontan_paloit/Dev/Lab/trash_classification\n"
     ]
    }
   ],
   "source": [
    "import os\n",
    "project_dir=[\n",
    "    \"data\",\n",
    "    \"data/images\",\n",
    "    \"data/train\",\n",
    "    \"data/test\"\n",
    "]\n",
    "\n",
    "for folder in project_dir:\n",
    "    path = f'{os.getcwd()}/{folder}'\n",
    "    if os.path.exists(path):\n",
    "        print(f\"Found directory: {folder}\")\n",
    "    else:\n",
    "        print(f\"Creating '{folder}' directory at project's root: {os.getcwd()}\")\n",
    "        os.mkdir(path)"
   ],
   "metadata": {
    "collapsed": false,
    "pycharm": {
     "name": "#%%\n"
    }
   }
  },
  {
   "cell_type": "code",
   "execution_count": 34,
   "outputs": [
    {
     "output_type": "stream",
     "name": "stdout",
     "text": [
      "ic/plastic342.jpg  \n  inflating: trashnet_materials/plastic/plastic424.jpg  \n  inflating: trashnet_materials/plastic/plastic430.jpg  \n  inflating: trashnet_materials/plastic/plastic356.jpg  \n  inflating: trashnet_materials/plastic/plastic418.jpg  \n  inflating: trashnet_materials/plastic/plastic381.jpg  \n  inflating: trashnet_materials/plastic/plastic395.jpg  \n  inflating: trashnet_materials/plastic/plastic480.jpg  \n  inflating: trashnet_materials/plastic/plastic457.jpg  \n  inflating: trashnet_materials/plastic/plastic331.jpg  \n  inflating: trashnet_materials/plastic/plastic325.jpg  \n  inflating: trashnet_materials/plastic/plastic443.jpg  \n  inflating: trashnet_materials/plastic/plastic319.jpg  \n  inflating: trashnet_materials/plastic/plastic133.jpg  \n  inflating: trashnet_materials/plastic/plastic127.jpg  \n  inflating: trashnet_materials/plastic/plastic15.jpg  \n  inflating: trashnet_materials/plastic/plastic29.jpg  \n  inflating: trashnet_materials/plastic/plastic286.jpg  \n  inflating: trashnet_materials/plastic/plastic292.jpg  \n  inflating: trashnet_materials/plastic/plastic245.jpg  \n  inflating: trashnet_materials/plastic/plastic251.jpg  \n  inflating: trashnet_materials/plastic/plastic279.jpg  \n  inflating: trashnet_materials/plastic/plastic278.jpg  \n  inflating: trashnet_materials/plastic/plastic250.jpg  \n  inflating: trashnet_materials/plastic/plastic244.jpg  \n  inflating: trashnet_materials/plastic/plastic293.jpg  \n  inflating: trashnet_materials/plastic/plastic287.jpg  \n  inflating: trashnet_materials/plastic/plastic28.jpg  \n  inflating: trashnet_materials/plastic/plastic14.jpg  \n  inflating: trashnet_materials/plastic/plastic126.jpg  \n  inflating: trashnet_materials/plastic/plastic132.jpg  \n  inflating: trashnet_materials/plastic/plastic318.jpg  \n  inflating: trashnet_materials/plastic/plastic324.jpg  \n  inflating: trashnet_materials/plastic/plastic442.jpg  \n  inflating: trashnet_materials/plastic/plastic456.jpg  \n  inflating: trashnet_materials/plastic/plastic330.jpg  \n  inflating: trashnet_materials/plastic/plastic481.jpg  \n  inflating: trashnet_materials/plastic/plastic440.jpg  \n  inflating: trashnet_materials/plastic/plastic326.jpg  \n  inflating: trashnet_materials/plastic/plastic332.jpg  \n  inflating: trashnet_materials/plastic/plastic454.jpg  \n  inflating: trashnet_materials/plastic/plastic468.jpg  \n  inflating: trashnet_materials/plastic/paper591.jpg  \n  inflating: trashnet_materials/plastic/plastic124.jpg  \n  inflating: trashnet_materials/plastic/plastic130.jpg  \n  inflating: trashnet_materials/plastic/plastic118.jpg  \n  inflating: trashnet_materials/plastic/plastic16.jpg  \n  inflating: trashnet_materials/plastic/plastic291.jpg  \n  inflating: trashnet_materials/plastic/plastic285.jpg  \n  inflating: trashnet_materials/plastic/plastic252.jpg  \n  inflating: trashnet_materials/plastic/plastic246.jpg  \n  inflating: trashnet_materials/plastic/plastic247.jpg  \n  inflating: trashnet_materials/plastic/plastic253.jpg  \n  inflating: trashnet_materials/plastic/plastic284.jpg  \n  inflating: trashnet_materials/plastic/plastic290.jpg  \n  inflating: trashnet_materials/plastic/plastic17.jpg  \n  inflating: trashnet_materials/plastic/plastic119.jpg  \n  inflating: trashnet_materials/plastic/plastic131.jpg  \n  inflating: trashnet_materials/plastic/plastic125.jpg  \n  inflating: trashnet_materials/plastic/paper590.jpg  \n  inflating: trashnet_materials/plastic/plastic469.jpg  \n  inflating: trashnet_materials/plastic/plastic333.jpg  \n  inflating: trashnet_materials/plastic/plastic455.jpg  \n  inflating: trashnet_materials/plastic/plastic441.jpg  \n  inflating: trashnet_materials/plastic/plastic327.jpg  \n  inflating: trashnet_materials/plastic/plastic482.jpg  \n  inflating: trashnet_materials/plastic/plastic479.jpg  \n  inflating: trashnet_materials/plastic/plastic323.jpg  \n  inflating: trashnet_materials/plastic/plastic445.jpg  \n  inflating: trashnet_materials/plastic/plastic451.jpg  \n  inflating: trashnet_materials/plastic/plastic337.jpg  \n  inflating: trashnet_materials/plastic/plastic109.jpg  \n  inflating: trashnet_materials/plastic/plastic121.jpg  \n  inflating: trashnet_materials/plastic/plastic135.jpg  \n  inflating: trashnet_materials/plastic/plastic13.jpg  \n  inflating: trashnet_materials/plastic/plastic294.jpg  \n  inflating: trashnet_materials/plastic/plastic280.jpg  \n  inflating: trashnet_materials/plastic/plastic257.jpg  \n  inflating: trashnet_materials/plastic/plastic243.jpg  \n  inflating: trashnet_materials/plastic/plastic242.jpg  \n  inflating: trashnet_materials/plastic/plastic256.jpg  \n  inflating: trashnet_materials/plastic/plastic281.jpg  \n  inflating: trashnet_materials/plastic/plastic295.jpg  \n  inflating: trashnet_materials/plastic/plastic12.jpg  \n  inflating: trashnet_materials/plastic/plastic134.jpg  \n  inflating: trashnet_materials/plastic/plastic120.jpg  \n  inflating: trashnet_materials/plastic/plastic108.jpg  \n  inflating: trashnet_materials/plastic/plastic450.jpg  \n  inflating: trashnet_materials/plastic/plastic336.jpg  \n  inflating: trashnet_materials/plastic/plastic322.jpg  \n  inflating: trashnet_materials/plastic/plastic444.jpg  \n  inflating: trashnet_materials/plastic/plastic478.jpg  \n  inflating: trashnet_materials/plastic/plastic308.jpg  \n  inflating: trashnet_materials/plastic/plastic334.jpg  \n  inflating: trashnet_materials/plastic/plastic452.jpg  \n  inflating: trashnet_materials/plastic/plastic446.jpg  \n  inflating: trashnet_materials/plastic/plastic320.jpg  \n  inflating: trashnet_materials/plastic/plastic136.jpg  \n  inflating: trashnet_materials/plastic/plastic122.jpg  \n  inflating: trashnet_materials/plastic/plastic38.jpg  \n  inflating: trashnet_materials/plastic/plastic10.jpg  \n  inflating: trashnet_materials/plastic/plastic283.jpg  \n  inflating: trashnet_materials/plastic/plastic297.jpg  \n  inflating: trashnet_materials/plastic/plastic268.jpg  \n  inflating: trashnet_materials/plastic/plastic240.jpg  \n  inflating: trashnet_materials/plastic/plastic254.jpg  \n  inflating: trashnet_materials/plastic/plastic255.jpg  \n  inflating: trashnet_materials/plastic/plastic241.jpg  \n  inflating: trashnet_materials/plastic/plastic269.jpg  \n  inflating: trashnet_materials/plastic/plastic296.jpg  \n  inflating: trashnet_materials/plastic/plastic282.jpg  \n  inflating: trashnet_materials/plastic/plastic11.jpg  \n  inflating: trashnet_materials/plastic/plastic39.jpg  \n  inflating: trashnet_materials/plastic/plastic123.jpg  \n  inflating: trashnet_materials/plastic/plastic137.jpg  \n  inflating: trashnet_materials/plastic/plastic447.jpg  \n  inflating: trashnet_materials/plastic/plastic321.jpg  \n  inflating: trashnet_materials/plastic/plastic335.jpg  \n  inflating: trashnet_materials/plastic/plastic453.jpg  \n  inflating: trashnet_materials/plastic/plastic309.jpg  \n  inflating: trashnet_materials/plastic/plastic476.jpg  \n  inflating: trashnet_materials/plastic/plastic310.jpg  \n  inflating: trashnet_materials/plastic/plastic304.jpg  \n  inflating: trashnet_materials/plastic/plastic462.jpg  \n  inflating: trashnet_materials/plastic/plastic338.jpg  \n  inflating: trashnet_materials/plastic/plastic112.jpg  \n  inflating: trashnet_materials/plastic/plastic106.jpg  \n  inflating: trashnet_materials/plastic/plastic34.jpg  \n  inflating: trashnet_materials/plastic/plastic20.jpg  \n  inflating: trashnet_materials/plastic/plastic264.jpg  \n  inflating: trashnet_materials/plastic/plastic270.jpg  \n  inflating: trashnet_materials/plastic/plastic258.jpg  \n  inflating: trashnet_materials/plastic/plastic259.jpg  \n  inflating: trashnet_materials/plastic/plastic271.jpg  \n  inflating: trashnet_materials/plastic/plastic265.jpg  \n  inflating: trashnet_materials/plastic/plastic21.jpg  \n  inflating: trashnet_materials/plastic/plastic35.jpg  \n  inflating: trashnet_materials/plastic/plastic107.jpg  \n  inflating: trashnet_materials/plastic/plastic113.jpg  \n  inflating: trashnet_materials/plastic/plastic339.jpg  \n  inflating: trashnet_materials/plastic/plastic305.jpg  \n  inflating: trashnet_materials/plastic/plastic463.jpg  \n  inflating: trashnet_materials/plastic/plastic477.jpg  \n  inflating: trashnet_materials/plastic/plastic311.jpg  \n  inflating: trashnet_materials/plastic/plastic461.jpg  \n  inflating: trashnet_materials/plastic/plastic307.jpg  \n  inflating: trashnet_materials/plastic/plastic313.jpg  \n  inflating: trashnet_materials/plastic/plastic475.jpg  \n  inflating: trashnet_materials/plastic/plastic449.jpg  \n  inflating: trashnet_materials/plastic/plastic105.jpg  \n  inflating: trashnet_materials/plastic/plastic111.jpg  \n  inflating: trashnet_materials/plastic/plastic139.jpg  \n  inflating: trashnet_materials/plastic/plastic23.jpg  \n  inflating: trashnet_materials/plastic/plastic37.jpg  \n  inflating: trashnet_materials/plastic/plastic298.jpg  \n  inflating: trashnet_materials/plastic/plastic273.jpg  \n  inflating: trashnet_materials/plastic/plastic267.jpg  \n  inflating: trashnet_materials/plastic/plastic266.jpg  \n  inflating: trashnet_materials/plastic/plastic272.jpg  \n  inflating: trashnet_materials/plastic/plastic299.jpg  \n  inflating: trashnet_materials/plastic/plastic36.jpg  \n  inflating: trashnet_materials/plastic/plastic22.jpg  \n  inflating: trashnet_materials/plastic/plastic138.jpg  \n  inflating: trashnet_materials/plastic/plastic110.jpg  \n  inflating: trashnet_materials/plastic/plastic104.jpg  \n  inflating: trashnet_materials/plastic/plastic448.jpg  \n  inflating: trashnet_materials/plastic/plastic312.jpg  \n  inflating: trashnet_materials/plastic/plastic474.jpg  \n  inflating: trashnet_materials/plastic/plastic460.jpg  \n  inflating: trashnet_materials/plastic/plastic306.jpg  \n  inflating: trashnet_materials/plastic/plastic458.jpg  \n  inflating: trashnet_materials/plastic/plastic302.jpg  \n  inflating: trashnet_materials/plastic/plastic464.jpg  \n  inflating: trashnet_materials/plastic/plastic470.jpg  \n  inflating: trashnet_materials/plastic/plastic316.jpg  \n  inflating: trashnet_materials/plastic/plastic128.jpg  \n  inflating: trashnet_materials/plastic/plastic100.jpg  \n  inflating: trashnet_materials/plastic/plastic114.jpg  \n  inflating: trashnet_materials/plastic/plastic26.jpg  \n  inflating: trashnet_materials/plastic/plastic32.jpg  \n  inflating: trashnet_materials/plastic/plastic289.jpg  \n  inflating: trashnet_materials/plastic/plastic276.jpg  \n  inflating: trashnet_materials/plastic/plastic262.jpg  \n  inflating: trashnet_materials/plastic/plastic263.jpg  \n  inflating: trashnet_materials/plastic/plastic277.jpg  \n  inflating: trashnet_materials/plastic/plastic288.jpg  \n  inflating: trashnet_materials/plastic/plastic33.jpg  \n  inflating: trashnet_materials/plastic/plastic27.jpg  \n  inflating: trashnet_materials/plastic/plastic115.jpg  \n  inflating: trashnet_materials/plastic/plastic101.jpg  \n  inflating: trashnet_materials/plastic/plastic129.jpg  \n  inflating: trashnet_materials/plastic/plastic471.jpg  \n  inflating: trashnet_materials/plastic/plastic317.jpg  \n  inflating: trashnet_materials/plastic/plastic303.jpg  \n  inflating: trashnet_materials/plastic/plastic465.jpg  \n  inflating: trashnet_materials/plastic/plastic459.jpg  \n  inflating: trashnet_materials/plastic/plastic329.jpg  \n  inflating: trashnet_materials/plastic/plastic315.jpg  \n  inflating: trashnet_materials/plastic/plastic473.jpg  \n  inflating: trashnet_materials/plastic/plastic467.jpg  \n  inflating: trashnet_materials/plastic/plastic301.jpg  \n  inflating: trashnet_materials/plastic/plastic117.jpg  \n  inflating: trashnet_materials/plastic/plastic103.jpg  \n  inflating: trashnet_materials/plastic/plastic19.jpg  \n  inflating: trashnet_materials/plastic/plastic31.jpg  \n  inflating: trashnet_materials/plastic/plastic25.jpg  \n  inflating: trashnet_materials/plastic/plastic249.jpg  \n  inflating: trashnet_materials/plastic/plastic261.jpg  \n  inflating: trashnet_materials/plastic/plastic275.jpg  \n  inflating: trashnet_materials/plastic/plastic274.jpg  \n  inflating: trashnet_materials/plastic/plastic260.jpg  \n  inflating: trashnet_materials/plastic/plastic248.jpg  \n  inflating: trashnet_materials/plastic/plastic24.jpg  \n  inflating: trashnet_materials/plastic/plastic30.jpg  \n  inflating: trashnet_materials/plastic/plastic18.jpg  \n  inflating: trashnet_materials/plastic/plastic102.jpg  \n  inflating: trashnet_materials/plastic/plastic116.jpg  \n  inflating: trashnet_materials/plastic/plastic466.jpg  \n  inflating: trashnet_materials/plastic/plastic300.jpg  \n  inflating: trashnet_materials/plastic/plastic314.jpg  \n  inflating: trashnet_materials/plastic/plastic472.jpg  \n  inflating: trashnet_materials/plastic/plastic328.jpg  \n  inflating: trashnet_materials/plastic/plastic398.jpg  \n  inflating: trashnet_materials/plastic/plastic373.jpg  \n  inflating: trashnet_materials/plastic/plastic415.jpg  \n  inflating: trashnet_materials/plastic/plastic401.jpg  \n  inflating: trashnet_materials/plastic/plastic367.jpg  \n  inflating: trashnet_materials/plastic/plastic429.jpg  \n  inflating: trashnet_materials/plastic/plastic171.jpg  \n  inflating: trashnet_materials/plastic/plastic165.jpg  \n  inflating: trashnet_materials/plastic/plastic159.jpg  \n  inflating: trashnet_materials/plastic/plastic94.jpg  \n  inflating: trashnet_materials/plastic/plastic80.jpg  \n  inflating: trashnet_materials/plastic/plastic1.jpg  \n  inflating: trashnet_materials/plastic/plastic57.jpg  \n  inflating: trashnet_materials/plastic/plastic43.jpg  \n  inflating: trashnet_materials/plastic/plastic207.jpg  \n  inflating: trashnet_materials/plastic/plastic213.jpg  \n  inflating: trashnet_materials/plastic/plastic212.jpg  \n  inflating: trashnet_materials/plastic/plastic206.jpg  \n  inflating: trashnet_materials/plastic/plastic42.jpg  \n  inflating: trashnet_materials/plastic/plastic56.jpg  \n  inflating: trashnet_materials/plastic/plastic81.jpg  \n  inflating: trashnet_materials/plastic/plastic95.jpg  \n  inflating: trashnet_materials/plastic/plastic158.jpg  \n  inflating: trashnet_materials/plastic/plastic164.jpg  \n  inflating: trashnet_materials/plastic/plastic170.jpg  \n  inflating: trashnet_materials/plastic/plastic428.jpg  \n  inflating: trashnet_materials/plastic/plastic400.jpg  \n  inflating: trashnet_materials/plastic/plastic366.jpg  \n  inflating: trashnet_materials/plastic/plastic372.jpg  \n  inflating: trashnet_materials/plastic/plastic414.jpg  \n  inflating: trashnet_materials/plastic/plastic399.jpg  \n  inflating: trashnet_materials/plastic/plastic364.jpg  \n  inflating: trashnet_materials/plastic/plastic402.jpg  \n  inflating: trashnet_materials/plastic/plastic416.jpg  \n  inflating: trashnet_materials/plastic/plastic370.jpg  \n  inflating: trashnet_materials/plastic/plastic358.jpg  \n  inflating: trashnet_materials/plastic/plastic199.jpg  \n  inflating: trashnet_materials/plastic/plastic166.jpg  \n  inflating: trashnet_materials/plastic/plastic172.jpg  \n  inflating: trashnet_materials/plastic/plastic83.jpg  \n  inflating: trashnet_materials/plastic/plastic97.jpg  \n  inflating: trashnet_materials/plastic/plastic2.jpg  \n  inflating: trashnet_materials/plastic/plastic40.jpg  \n  inflating: trashnet_materials/plastic/plastic54.jpg  \n  inflating: trashnet_materials/plastic/plastic68.jpg  \n  inflating: trashnet_materials/plastic/plastic210.jpg  \n  inflating: trashnet_materials/plastic/plastic204.jpg  \n  inflating: trashnet_materials/plastic/plastic238.jpg  \n  inflating: trashnet_materials/plastic/plastic239.jpg  \n  inflating: trashnet_materials/plastic/plastic205.jpg  \n  inflating: trashnet_materials/plastic/plastic211.jpg  \n  inflating: trashnet_materials/plastic/plastic69.jpg  \n  inflating: trashnet_materials/plastic/plastic55.jpg  \n  inflating: trashnet_materials/plastic/plastic41.jpg  \n  inflating: trashnet_materials/plastic/plastic3.jpg  \n  inflating: trashnet_materials/plastic/plastic96.jpg  \n  inflating: trashnet_materials/plastic/plastic82.jpg  \n  inflating: trashnet_materials/plastic/plastic173.jpg  \n  inflating: trashnet_materials/plastic/plastic167.jpg  \n  inflating: trashnet_materials/plastic/plastic198.jpg  \n  inflating: trashnet_materials/plastic/plastic359.jpg  \n  inflating: trashnet_materials/plastic/plastic417.jpg  \n  inflating: trashnet_materials/plastic/plastic371.jpg  \n  inflating: trashnet_materials/plastic/plastic365.jpg  \n  inflating: trashnet_materials/plastic/plastic403.jpg  \n  inflating: trashnet_materials/plastic/plastic349.jpg  \n  inflating: trashnet_materials/plastic/plastic407.jpg  \n  inflating: trashnet_materials/plastic/plastic361.jpg  \n  inflating: trashnet_materials/plastic/plastic375.jpg  \n  inflating: trashnet_materials/plastic/plastic413.jpg  \n  inflating: trashnet_materials/plastic/plastic188.jpg  \n  inflating: trashnet_materials/plastic/plastic163.jpg  \n  inflating: trashnet_materials/plastic/plastic177.jpg  \n  inflating: trashnet_materials/plastic/plastic7.jpg  \n  inflating: trashnet_materials/plastic/plastic86.jpg  \n  inflating: trashnet_materials/plastic/plastic92.jpg  \n  inflating: trashnet_materials/plastic/plastic79.jpg  \n  inflating: trashnet_materials/plastic/plastic45.jpg  \n  inflating: trashnet_materials/plastic/plastic51.jpg  \n  inflating: trashnet_materials/plastic/plastic229.jpg  \n  inflating: trashnet_materials/plastic/plastic215.jpg  \n  inflating: trashnet_materials/plastic/plastic201.jpg  \n  inflating: trashnet_materials/plastic/plastic200.jpg  \n  inflating: trashnet_materials/plastic/plastic214.jpg  \n  inflating: trashnet_materials/plastic/plastic228.jpg  \n  inflating: trashnet_materials/plastic/plastic50.jpg  \n  inflating: trashnet_materials/plastic/plastic44.jpg  \n  inflating: trashnet_materials/plastic/plastic78.jpg  \n  inflating: trashnet_materials/plastic/plastic93.jpg  \n  inflating: trashnet_materials/plastic/plastic87.jpg  \n  inflating: trashnet_materials/plastic/plastic6.jpg  \n  inflating: trashnet_materials/plastic/plastic176.jpg  \n  inflating: trashnet_materials/plastic/plastic162.jpg  \n  inflating: trashnet_materials/plastic/plastic189.jpg  \n  inflating: trashnet_materials/plastic/plastic374.jpg  \n  inflating: trashnet_materials/plastic/plastic412.jpg  \n  inflating: trashnet_materials/plastic/plastic406.jpg  \n  inflating: trashnet_materials/plastic/plastic360.jpg  \n  inflating: trashnet_materials/plastic/plastic348.jpg  \n  inflating: trashnet_materials/plastic/plastic389.jpg  \n  inflating: trashnet_materials/plastic/plastic438.jpg  \n  inflating: trashnet_materials/plastic/plastic410.jpg  \n  inflating: trashnet_materials/plastic/plastic376.jpg  \n  inflating: trashnet_materials/plastic/plastic362.jpg  \n  inflating: trashnet_materials/plastic/plastic404.jpg  \n  inflating: trashnet_materials/plastic/plastic148.jpg  \n  inflating: trashnet_materials/plastic/plastic174.jpg  \n  inflating: trashnet_materials/plastic/plastic160.jpg  \n  inflating: trashnet_materials/plastic/plastic4.jpg  \n  inflating: trashnet_materials/plastic/plastic91.jpg  \n  inflating: trashnet_materials/plastic/plastic85.jpg  \n  inflating: trashnet_materials/plastic/plastic52.jpg  \n  inflating: trashnet_materials/plastic/plastic46.jpg  \n  inflating: trashnet_materials/plastic/plastic202.jpg  \n  inflating: trashnet_materials/plastic/plastic216.jpg  \n  inflating: trashnet_materials/plastic/plastic217.jpg  \n  inflating: trashnet_materials/plastic/plastic203.jpg  \n  inflating: trashnet_materials/plastic/plastic47.jpg  \n  inflating: trashnet_materials/plastic/plastic53.jpg  \n  inflating: trashnet_materials/plastic/plastic84.jpg  \n  inflating: trashnet_materials/plastic/plastic90.jpg  \n  inflating: trashnet_materials/plastic/plastic5.jpg  \n  inflating: trashnet_materials/plastic/plastic161.jpg  \n  inflating: trashnet_materials/plastic/plastic175.jpg  \n  inflating: trashnet_materials/plastic/plastic149.jpg  \n  inflating: trashnet_materials/plastic/plastic363.jpg  \n  inflating: trashnet_materials/plastic/plastic405.jpg  \n  inflating: trashnet_materials/plastic/plastic411.jpg  \n  inflating: trashnet_materials/plastic/plastic377.jpg  \n  inflating: trashnet_materials/plastic/plastic439.jpg  \n  inflating: trashnet_materials/plastic/plastic388.jpg  \n"
     ]
    }
   ],
   "source": [
    "%%bash\n",
    "unzip trashnet_materials.zip\n",
    "mv trashnet_materials/* data/images\n",
    "rm -rf trashnet_materials/"
   ],
   "metadata": {
    "collapsed": false,
    "pycharm": {
     "name": "#%%\n"
    },
    "tags": [
     "outputPrepend"
    ]
   }
  },
  {
   "cell_type": "code",
   "execution_count": 35,
   "outputs": [
    {
     "output_type": "stream",
     "name": "stdout",
     "text": [
      "total: 995, train: 846, test:149\n",
      "Copying 846 of 995 to paper train folder\n",
      "Copying 149 of 995 to paper test folder\n",
      "total: 410, train: 348, test:62\n",
      "Copying 348 of 410 to metal train folder\n",
      "Copying 62 of 410 to metal test folder\n",
      "total: 137, train: 116, test:21\n",
      "Copying 116 of 137 to trash train folder\n",
      "Copying 21 of 137 to trash test folder\n",
      "total: 501, train: 426, test:75\n",
      "Copying 426 of 501 to glass train folder\n",
      "Copying 75 of 501 to glass test folder\n",
      "total: 484, train: 411, test:73\n",
      "Copying 411 of 484 to plastic train folder\n",
      "Copying 73 of 484 to plastic test folder\n"
     ]
    }
   ],
   "source": [
    "import shutil\n",
    "from pathlib import Path\n",
    "from helpers import split_train_test\n",
    "\n",
    "data_dir=Path(os.getcwd())/'data'\n",
    "images_dir= data_dir/'images'\n",
    "train_dir= data_dir/'train'\n",
    "test_dir= data_dir/'test'\n",
    "\n",
    "for directory in images_dir.iterdir():\n",
    "    if directory.is_dir():\n",
    "        # ensures class directories exists in train and test directories\n",
    "        for t in [train_dir, test_dir]:\n",
    "            if not os.path.exists(t/directory.name):\n",
    "                os.mkdir(t/directory.name)\n",
    "\n",
    "        image_list = list(directory.glob('*.jpg'))\n",
    "        train_list, test_list = split_train_test(image_list, train_ratio=0.85)\n",
    "        \n",
    "        print(f'Copying {len(train_list)} of {len(image_list)} to {directory.name} train folder')\n",
    "        for file in train_list:\n",
    "            target=str(images_dir/directory.name/file.name)\n",
    "            dest=str(train_dir/directory.name/file.name)            \n",
    "            shutil.copyfile(target, dest)\n",
    "        \n",
    "        print(f'Copying {len(test_list)} of {len(image_list)} to {directory.name} test folder')\n",
    "        for file in test_list:\n",
    "            target=str(images_dir/directory.name/file.name)\n",
    "            dest=str(test_dir/directory.name/file.name)   \n",
    "            shutil.copyfile(target, dest)"
   ],
   "metadata": {
    "collapsed": false,
    "pycharm": {
     "name": "#%%\n"
    },
    "tags": []
   }
  },
  {
   "cell_type": "code",
   "execution_count": null,
   "metadata": {},
   "outputs": [],
   "source": []
  }
 ]
}