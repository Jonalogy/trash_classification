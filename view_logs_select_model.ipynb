{
  "nbformat": 4,
  "nbformat_minor": 0,
  "metadata": {
    "colab": {
      "name": "view_logs_select_model.ipynb",
      "provenance": [],
      "collapsed_sections": [],
      "toc_visible": true
    },
    "kernelspec": {
      "name": "python3",
      "display_name": "Python 3"
    }
  },
  "cells": [
    {
      "cell_type": "markdown",
      "metadata": {
        "id": "P9kOLS3PnSnB"
      },
      "source": [
        "# View Logs and Select Model for deployment"
      ]
    },
    {
      "source": [
        "Set up necessary folder structure."
      ],
      "cell_type": "markdown",
      "metadata": {}
    },
    {
      "cell_type": "code",
      "metadata": {
        "id": "rXjl6WEAnVZx"
      },
      "source": [
        "from pathlib import Path\n",
        "\n",
        "paths = [\n",
        "  \"fetched/logs\", # Fetched zipped logs from external storage, \n",
        "  \"fetched/models\", # Fetched zipped models from external storage, \n",
        "  \"logs\", # Unzip destination for logs\n",
        "  \"models\" # Unzip destination for logs\n",
        "]\n",
        "\n",
        "for dir_path in paths:\n",
        "  Path(dir_path).mkdir(parents=True)"
      ],
      "execution_count": null,
      "outputs": []
    },
    {
      "cell_type": "code",
      "metadata": {
        "id": "LFC-cToU7Kd6"
      },
      "source": [
        "from zipfile import ZipFile"
      ],
      "execution_count": null,
      "outputs": []
    },
    {
      "cell_type": "code",
      "metadata": {
        "id": "Rh8588TI67hZ"
      },
      "source": [
        "def extract_list_of_zip_to_same_dir (list_of_zips, dest_dir):\n",
        "  for zip in list_of_zips:\n",
        "    ZipFile(zip).extractall(dest_dir)"
      ],
      "execution_count": null,
      "outputs": []
    },
    {
      "cell_type": "markdown",
      "metadata": {
        "id": "VLh3EHb26746"
      },
      "source": [
        "## Download logs and view on Tensorboard"
      ]
    },
    {
      "cell_type": "markdown",
      "metadata": {
        "id": "mQ-ueiX08gXh"
      },
      "source": [
        "Fetch logs in zipped format"
      ]
    },
    {
      "cell_type": "code",
      "metadata": {
        "id": "mSc2G4898dUj"
      },
      "source": [
        "# To be converted into python method after infra is in place\n",
        "!wget \"url_to_download_logs_zip\" -P fetched/models"
      ],
      "execution_count": null,
      "outputs": []
    },
    {
      "cell_type": "markdown",
      "metadata": {
        "id": "kFpRisG98nno"
      },
      "source": [
        "Unzip the zipped logs to a common `logs` folder"
      ]
    },
    {
      "cell_type": "code",
      "metadata": {
        "id": "tYRvofZO7BQE"
      },
      "source": [
        "list_of_zips = [\n",
        "  # eg. \"/content/fetched/logs/20201112-0343_items_logs.zip\"\n",
        "]\n",
        "\n",
        "extract_list_of_zip_to_same_dir(list_of_zips, \"/content/logs\")"
      ],
      "execution_count": null,
      "outputs": []
    },
    {
      "cell_type": "code",
      "metadata": {
        "id": "EOHhWROsiGqP"
      },
      "source": [
        "%load_ext tensorboard"
      ],
      "execution_count": null,
      "outputs": []
    },
    {
      "cell_type": "code",
      "metadata": {
        "id": "rZhmk2p0jG-s"
      },
      "source": [
        "%tensorboard --logdir=/content/logs"
      ],
      "execution_count": null,
      "outputs": []
    },
    {
      "cell_type": "markdown",
      "metadata": {
        "id": "IbOpbG77l_Kk"
      },
      "source": [
        "## Convert For Raspberry Pi"
      ]
    },
    {
      "cell_type": "code",
      "metadata": {
        "id": "WNAHyGC-l-kg"
      },
      "source": [
        "from tensorflow.lite import TFLiteConverter\n",
        "\n",
        "def serve_tflite(saved_model_path, tflite_name, save_to):\n",
        "  print(\"Converting saved model at\", saved_model_path)\n",
        "  converter = tf.lite.TFLiteConverter.from_saved_model(saved_model_path) # path to the SavedModel directory\n",
        "  tflite_model = converter.convert()\n",
        "  \n",
        "  save_tflite_to = f'{save_to}/{tflite_name}.tflite'\n",
        "  print(\"Saving as\", saved_model_path)\n",
        "  with open(save_tflite_to, 'wb') as f:\n",
        "    f.write(tflite_model)\n",
        "  \n",
        "  # TODO: Upload model to cloud storage..."
      ],
      "execution_count": null,
      "outputs": []
    },
    {
      "cell_type": "markdown",
      "metadata": {
        "id": "-KhknPIp9Gma"
      },
      "source": [
        "Fetch logs to download"
      ]
    },
    {
      "cell_type": "code",
      "metadata": {
        "id": "SZB1XiBK7XIs"
      },
      "source": [
        "# To be converted into python method after infra is in place\n",
        "!wget \"url_to_download_model_zip\" -P fetched/models"
      ],
      "execution_count": null,
      "outputs": []
    },
    {
      "cell_type": "code",
      "metadata": {
        "id": "CE9oXyKC9COS"
      },
      "source": [
        "model_to_convert = # path to saved model directory (eg. /content/models/20201112-0343_items_model)\n",
        "\n",
        "serve_tflite(model_to_convert)"
      ],
      "execution_count": null,
      "outputs": []
    }
  ]
}