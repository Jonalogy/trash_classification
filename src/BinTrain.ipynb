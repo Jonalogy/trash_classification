{
  "nbformat": 4,
  "nbformat_minor": 0,
  "metadata": {
    "colab": {
      "name": "BinTrain.ipynb",
      "provenance": []
    },
    "kernelspec": {
      "name": "python3",
      "display_name": "Python 3"
    },
    "accelerator": "GPU"
  },
  "cells": [
    {
      "cell_type": "markdown",
      "metadata": {
        "id": "8ATbyEyK3IFK",
        "colab_type": "text"
      },
      "source": [
        "**Imports**"
      ]
    },
    {
      "cell_type": "code",
      "metadata": {
        "id": "k7mHpnw9pgWa",
        "colab_type": "code",
        "colab": {
          "base_uri": "https://localhost:8080/",
          "height": 34
        },
        "outputId": "8f800c27-78d4-41a1-c13b-bca18e389858"
      },
      "source": [
        "import numpy as np\n",
        "import matplotlib.pyplot as plt\n",
        "import tensorflow as tf\n",
        "from tensorflow.keras.models import Sequential\n",
        "from tensorflow.keras.layers import Dense, Conv2D, Flatten, MaxPooling2D, Dropout\n",
        "\n",
        "tf.config.list_physical_devices('GPU')"
      ],
      "execution_count": null,
      "outputs": [
        {
          "output_type": "execute_result",
          "data": {
            "text/plain": [
              "[PhysicalDevice(name='/physical_device:GPU:0', device_type='GPU')]"
            ]
          },
          "metadata": {
            "tags": []
          },
          "execution_count": 4
        }
      ]
    },
    {
      "cell_type": "markdown",
      "metadata": {
        "id": "mZUXiUv43Lyp",
        "colab_type": "text"
      },
      "source": [
        "**Constants**"
      ]
    },
    {
      "cell_type": "code",
      "metadata": {
        "id": "ea9ldnFG3Qh5",
        "colab_type": "code",
        "colab": {}
      },
      "source": [
        "IMAGE_DIMS = (640, 480, 3) #temporary--can be changed later"
      ],
      "execution_count": null,
      "outputs": []
    },
    {
      "cell_type": "markdown",
      "metadata": {
        "id": "dGmdJhqlxCgH",
        "colab_type": "text"
      },
      "source": [
        "**Image processing**\n",
        "\n",
        "For colab, you have to move all of the image files into google drive in order to train them. An alternative could be to use an image database to store the files."
      ]
    },
    {
      "cell_type": "code",
      "metadata": {
        "id": "7uNY6tRxxUyg",
        "colab_type": "code",
        "colab": {}
      },
      "source": [
        "'''\n",
        "Still to be done\n",
        "    - We will likely need to reduce the resolution for the images in order to get the model to run on the pi\n",
        "    - CNN architecuture? Deep or broad? Doing research on this now\n",
        "    - Transfer learning? We could use a pretrained network to perform the identification\n",
        "    - Before and after IR? How would we encode this?\n",
        "'''"
      ],
      "execution_count": null,
      "outputs": []
    },
    {
      "cell_type": "markdown",
      "metadata": {
        "id": "30IAOXevgbsi",
        "colab_type": "text"
      },
      "source": [
        "**Training**"
      ]
    },
    {
      "cell_type": "code",
      "metadata": {
        "id": "c501y27hyCen",
        "colab_type": "code",
        "colab": {}
      },
      "source": [
        "model = Sequential()\n",
        "model.add(Conv2D(32, (3,3), padding='same', input_shape=IMAGE_DIMS, activation='relu'))\n",
        "model.add(MaxPooling2D(pool_size=(2,2)))\n",
        "model.add(Conv2D(64, (3,3), padding='same', activation='relu'))\n",
        "model.add(MaxPooling2D(pool_size=(2,2)))\n",
        "model.add(Conv2D(32, (3,3), padding='same', activation='relu'))\n",
        "model.add(MaxPooling2D(pool_size=(2,2)))\n",
        "model.add(Flatten())\n",
        "model.add(Dense(64, activation='relu'))\n",
        "model.add(Dense(5, activation='softmax'))"
      ],
      "execution_count": null,
      "outputs": []
    },
    {
      "cell_type": "code",
      "metadata": {
        "id": "ui7h3T4q4iQx",
        "colab_type": "code",
        "colab": {
          "base_uri": "https://localhost:8080/",
          "height": 459
        },
        "outputId": "d0aedd1f-3904-4db0-eaa5-60085b32dcba"
      },
      "source": [
        "model.compile(loss='categorical_crossentropy', optimizer='adam', metrics=['acc'])\n",
        "model.summary()"
      ],
      "execution_count": null,
      "outputs": [
        {
          "output_type": "stream",
          "text": [
            "Model: \"sequential_2\"\n",
            "_________________________________________________________________\n",
            "Layer (type)                 Output Shape              Param #   \n",
            "=================================================================\n",
            "conv2d_3 (Conv2D)            (None, 640, 480, 32)      896       \n",
            "_________________________________________________________________\n",
            "max_pooling2d_2 (MaxPooling2 (None, 320, 240, 32)      0         \n",
            "_________________________________________________________________\n",
            "conv2d_4 (Conv2D)            (None, 320, 240, 64)      18496     \n",
            "_________________________________________________________________\n",
            "max_pooling2d_3 (MaxPooling2 (None, 160, 120, 64)      0         \n",
            "_________________________________________________________________\n",
            "conv2d_5 (Conv2D)            (None, 160, 120, 32)      18464     \n",
            "_________________________________________________________________\n",
            "max_pooling2d_4 (MaxPooling2 (None, 80, 60, 32)        0         \n",
            "_________________________________________________________________\n",
            "flatten (Flatten)            (None, 153600)            0         \n",
            "_________________________________________________________________\n",
            "dense (Dense)                (None, 64)                9830464   \n",
            "_________________________________________________________________\n",
            "dense_1 (Dense)              (None, 5)                 325       \n",
            "=================================================================\n",
            "Total params: 9,868,645\n",
            "Trainable params: 9,868,645\n",
            "Non-trainable params: 0\n",
            "_________________________________________________________________\n"
          ],
          "name": "stdout"
        }
      ]
    },
    {
      "cell_type": "code",
      "metadata": {
        "id": "2Bwi734wv2mp",
        "colab_type": "code",
        "colab": {}
      },
      "source": [
        "# I have this in google colab right now, so I need to mount drive in order to save files\n",
        "# If you switch to some other platform for training, you will have to change this code to save the file somplace else\n",
        "\n",
        "from google.colab import drive\n",
        "drive.mount('/gdrive')\n",
        "\n",
        "SAVE_FILEPATH = '/gdrive/My Drive/Smart Bin/model' # Change to your project filepath if you want to train it yourself\n",
        "\n",
        "model.save(SAVE_FILEPATH)\n",
        "\n"
      ],
      "execution_count": null,
      "outputs": []
    }
  ]
}